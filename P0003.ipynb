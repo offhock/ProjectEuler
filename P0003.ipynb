{
 "cells": [
  {
   "cell_type": "markdown",
   "metadata": {},
   "source": [
    "# Largest prime factor\n",
    "> Problem 3\n",
    "\n",
    "The prime factors of 13195 are 5, 7, 13 and 29.\n",
    "\n",
    "What is the largest prime factor of the number 600851475143 ?"
   ]
  },
  {
   "cell_type": "markdown",
   "metadata": {},
   "source": [
    "> Answer:  6857\n",
    "\n",
    "Completed on Sun, 24 Jul 2022, 07:03"
   ]
  },
  {
   "cell_type": "markdown",
   "metadata": {},
   "source": [
    "접근방법:\n",
    "1. 모수를 2,3,5,7의 소수로 나눈다.\n",
    "2. 모수를 특정 소수로 나눈 나머지가 0이 되면, 그 나머지도 그 특정 수로 나누어 지는 확진하고 계수를 증가 시킨다.\n",
    "\n"
   ]
  },
  {
   "cell_type": "code",
   "execution_count": 12,
   "metadata": {
    "vscode": {
     "languageId": "markdown"
    }
   },
   "outputs": [
    {
     "name": "stdout",
     "output_type": "stream",
     "text": [
      "71 8462696833.0\n",
      "839 10086647.0\n",
      "1471 6857.0\n",
      "6857 1.0\n",
      "[71, 839, 1471, 6857] 600851475143\n"
     ]
    }
   ],
   "source": [
    "target_number = 600851475143 \n",
    "i=2\n",
    "remains = target_number\n",
    "a =[]\n",
    "\n",
    "while True:\n",
    "\n",
    "    if target_number%i==0:\n",
    "        remains=target_number/i\n",
    "        print(i,remains)\n",
    "        target_number=remains\n",
    "        a.append(i)\n",
    "\n",
    "    if remains==1: \n",
    "        break        \n",
    "\n",
    "    if remains%i==0:\n",
    "        i=i\n",
    "    else:\n",
    "        i=i+1           \n",
    "\n",
    "# 검산\n",
    "mul=1\n",
    "for i in a:\n",
    "    mul=mul*i\n",
    "\n",
    "print(a, mul)\n"
   ]
  },
  {
   "cell_type": "markdown",
   "metadata": {},
   "source": [
    "4m 41.6s\n",
    "               600851475143\n",
    "for i in range(2,1000000000):\n",
    "                  408464633\n",
    "\n",
    "600851475143을 소인수 분해하면, \n",
    "                 \n",
    "71 8462696833.0\n",
    "839 716151937.0\n",
    "1471 408464633.0\n",
    "6857 87625999.0\n",
    "59569 10086647.0\n",
    "104441 5753023.0\n",
    "486847 1234169.0\n",
    "1234169 486847.0\n",
    "5753023 104441.0\n",
    "10086647 59569.0\n",
    "87625999 6857.0\n",
    "408464633 1471.0\n",
    "716151937 839.0\n",
    "8462696833 71.0\n"
   ]
  }
 ],
 "metadata": {
  "kernelspec": {
   "display_name": "Python 3.10.5 64-bit (windows store)",
   "language": "python",
   "name": "python3"
  },
  "language_info": {
   "codemirror_mode": {
    "name": "ipython",
    "version": 3
   },
   "file_extension": ".py",
   "mimetype": "text/x-python",
   "name": "python",
   "nbconvert_exporter": "python",
   "pygments_lexer": "ipython3",
   "version": "3.10.5"
  },
  "orig_nbformat": 4,
  "vscode": {
   "interpreter": {
    "hash": "6be026cc2f54c9bec22506d53e3e394c3402c3c44c1202f9383de7e3faf9cb28"
   }
  }
 },
 "nbformat": 4,
 "nbformat_minor": 2
}
