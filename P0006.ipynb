{
 "cells": [
  {
   "cell_type": "markdown",
   "metadata": {},
   "source": [
    "# Sum square difference\n",
    "\n",
    "> Problem 6\n",
    "\n",
    "The sum of the squares of the first ten natural numbers is,  \n",
    "$$ 1^2 + 2^2 + ... +  10^2 = 385 $$\n",
    "\n",
    "The square of the sum of the first ten natural numbers is,\n",
    "$$ (1 + 2 + ... +  10)^2 = 55^2 = 3025 $$\n",
    "\n",
    "Hence the difference between the sum of the squares of the first ten natural numbers and the square of the sum is .\n",
    "$$ 3025-385 = 2640 $$\n",
    "\n",
    "Find the difference between the sum of the squares of the first one hundred natural numbers and the square of the sum.  \n",
    "문) 처음 100개의 자연수의 제곱의 합과 그 합의 제곱의 차이를 찾으십시오.\n",
    "\n",
    "> Answer  :  25164150  \n",
    " Completed on Tue, 2 Aug 2022, 15:32"
   ]
  },
  {
   "cell_type": "code",
   "execution_count": 2,
   "metadata": {},
   "outputs": [
    {
     "data": {
      "text/plain": [
       "25164150"
      ]
     },
     "execution_count": 2,
     "metadata": {},
     "output_type": "execute_result"
    }
   ],
   "source": [
    "sum = 0\n",
    "sum_sqrt = 0\n",
    "for i in range (1,101):\n",
    "    sum_sqrt = sum_sqrt + i**2\n",
    "    sum = sum + i\n",
    "    \n",
    "sum ** 2 - sum_sqrt"
   ]
  }
 ],
 "metadata": {
  "kernelspec": {
   "display_name": "Python 3.10.5 64-bit",
   "language": "python",
   "name": "python3"
  },
  "language_info": {
   "codemirror_mode": {
    "name": "ipython",
    "version": 3
   },
   "file_extension": ".py",
   "mimetype": "text/x-python",
   "name": "python",
   "nbconvert_exporter": "python",
   "pygments_lexer": "ipython3",
   "version": "3.10.5"
  },
  "orig_nbformat": 4,
  "vscode": {
   "interpreter": {
    "hash": "b6213e0af081d56db034f795ff49d96980936e2ae540dda57fc6c3cbea6a5fc9"
   }
  }
 },
 "nbformat": 4,
 "nbformat_minor": 2
}
