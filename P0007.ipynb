{
 "cells": [
  {
   "cell_type": "markdown",
   "metadata": {},
   "source": [
    "# 10001st prime\n",
    "\n",
    "> Problem 7\n",
    "\n",
    "By listing the first six prime numbers: 2, 3, 5, 7, 11, and 13, we can see that the 6th prime is 13.\n",
    "\n",
    "What is the 10,001st prime number?\n",
    "\n",
    "\n",
    "> Answer:  104743\n",
    "\n",
    "\n",
    "Completed on Tue, 2 Aug 2022, 15:58"
   ]
  },
  {
   "cell_type": "code",
   "execution_count": 25,
   "metadata": {},
   "outputs": [
    {
     "name": "stdout",
     "output_type": "stream",
     "text": [
      "1 None\n",
      "2 True\n",
      "3 True\n",
      "4 False\n",
      "5 True\n",
      "6 False\n",
      "7 True\n",
      "8 False\n",
      "9 False\n",
      "10 False\n",
      "11 True\n",
      "12 False\n",
      "13 True\n",
      "14 False\n",
      "15 False\n",
      "16 False\n",
      "17 True\n",
      "18 False\n",
      "19 True\n",
      "10001 104743\n"
     ]
    }
   ],
   "source": [
    "def isprime(num):\n",
    "    j=2\n",
    "    while True:\n",
    "        if num%j==0:\n",
    "            if(j==num): \n",
    "                return True\n",
    "            else: \n",
    "                return False\n",
    "            num=int(num/j)            \n",
    "        else:\n",
    "            j=j+1                                   \n",
    "        if num==1: break;  \n",
    "  \n",
    "for i in range (1,20):\n",
    "    print(i,isprime(i))\n",
    "    \n",
    "i =2    \n",
    "cnt=0\n",
    "while cnt < 10001:\n",
    "    if isprime(i) == True:  cnt = cnt +1\n",
    "    i = i +1\n",
    "print (cnt,i-1)    "
   ]
  }
 ],
 "metadata": {
  "kernelspec": {
   "display_name": "Python 3.10.5 64-bit",
   "language": "python",
   "name": "python3"
  },
  "language_info": {
   "codemirror_mode": {
    "name": "ipython",
    "version": 3
   },
   "file_extension": ".py",
   "mimetype": "text/x-python",
   "name": "python",
   "nbconvert_exporter": "python",
   "pygments_lexer": "ipython3",
   "version": "3.10.5"
  },
  "orig_nbformat": 4,
  "vscode": {
   "interpreter": {
    "hash": "b6213e0af081d56db034f795ff49d96980936e2ae540dda57fc6c3cbea6a5fc9"
   }
  }
 },
 "nbformat": 4,
 "nbformat_minor": 2
}
