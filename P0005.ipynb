{
 "cells": [
  {
   "cell_type": "markdown",
   "metadata": {},
   "source": [
    "# Smallest multiple\n",
    "\n",
    ">Problem 5\n",
    "\n",
    "2520 is the smallest number that can be divided by each of the numbers from 1 to 10 without any remainder.\n",
    "\n",
    "What is the smallest positive number that is evenly divisible by all of the numbers from 1 to 20?"
   ]
  },
  {
   "cell_type": "code",
   "execution_count": 137,
   "metadata": {},
   "outputs": [
    {
     "name": "stdout",
     "output_type": "stream",
     "text": [
      "number    [ 1  2  3  4  5  6  7  8  9 10 11 12 13 14 15 16 17 18 19 20]\n",
      "count     [ 0 18  8  0  4  0  2  0  0  0  1  0  1  0  0  0  1  0  1  0]\n",
      "max prime [ 1  2  3  2  5  3  7  2  3  5 11  3 13  7  5  2 17  3 19  5] 5499724230000.0\n",
      "{1, 2, 3, 5, 7, 11, 13, 17, 19} 9699690.0\n",
      "232792560\n"
     ]
    }
   ],
   "source": [
    "\n",
    "import numpy\n",
    "\n",
    "# 1~20까지의 배열을 생성한다.\n",
    "arr = numpy.arange(1,21,1)\n",
    "cnt = numpy.arange(1,21,1)\n",
    "print(\"number   \",arr)\n",
    "\n",
    "for i in range(1,21,1):\n",
    "    cnt[i-1]=0\n",
    "\n",
    "\n",
    "# 1~20까지 수를 소인수 분해하여 가장 작은 수로 \n",
    "for i in range(2,21):\n",
    "    num= i\n",
    "    j=2\n",
    "    while True:\n",
    "        if num%j==0:   # 나누어 떨어지면, 나눈수 j를 카운트 한다.\n",
    "            num=num/j\n",
    "            arr[i-1]=j    # 최소 소수를 저장한다.  \n",
    "            cnt[j-1]+=1   # 사용된 소수의 개수를 구한다.          \n",
    "        else:\n",
    "            j=j+1                 \n",
    "        if num==1: break;  \n",
    "            \n",
    "\n",
    "# 1-20까지의 소수가 사용된 개수를 출력한다.\n",
    "print(\"count    \", cnt)        \n",
    "\n",
    "# 1-20까지의 수의 최대 소수를 출력한다.       \n",
    "mul=1.0 \n",
    "for i in arr:  mul=mul*i; \n",
    "print(\"max prime\",arr, mul)\n",
    "\n",
    "# 중복을 제거하고 사용된 소수와 그들의 최대공배수를 출력한다. \n",
    "arr1=set(arr)\n",
    "mul=1.0\n",
    "for i in arr1: mul=mul*i; \n",
    "print(arr1, mul)\n",
    "\n",
    "\n",
    "for i in range(9699690,232792560*2,9699690):\n",
    "    flag= False\n",
    "    for j in range(1,21):\n",
    "        if i%j==0:  flag= True;\n",
    "        else:       flag= False;\n",
    "        if flag==False:   break;\n",
    "    if flag==True:\n",
    "        print(i)\n",
    "           \n",
    "    "
   ]
  },
  {
   "cell_type": "markdown",
   "metadata": {},
   "source": []
  },
  {
   "cell_type": "code",
   "execution_count": 89,
   "metadata": {},
   "outputs": [
    {
     "name": "stdout",
     "output_type": "stream",
     "text": [
      "720720 1 0 720720.0\n",
      "720720 2 0 360360.0\n",
      "720720 3 0 240240.0\n",
      "720720 4 0 180180.0\n",
      "720720 5 0 144144.0\n",
      "720720 6 0 120120.0\n",
      "720720 7 0 102960.0\n",
      "720720 8 0 90090.0\n",
      "720720 9 0 80080.0\n",
      "720720 10 0 72072.0\n",
      "720720 11 0 65520.0\n",
      "720720 12 0 60060.0\n",
      "720720 13 0 55440.0\n",
      "720720 14 0 51480.0\n",
      "720720 15 0 48048.0\n",
      "720720 16 0 45045.0\n",
      "720720 18 0 40040.0\n",
      "720720 20 0 36036.0\n"
     ]
    }
   ],
   "source": [
    "num=720720\n",
    "for i in range(1,21):\n",
    "   if num%i==0:\n",
    "       print(num,i,num%i,num/i)     \n",
    "       "
   ]
  },
  {
   "cell_type": "code",
   "execution_count": 8,
   "metadata": {},
   "outputs": [
    {
     "data": {
      "text/plain": [
       "232792560"
      ]
     },
     "execution_count": 8,
     "metadata": {},
     "output_type": "execute_result"
    }
   ],
   "source": [
    "# 720720에 19와 17을 곱하면 최소수가 된다.\n",
    "720720*19*17"
   ]
  },
  {
   "cell_type": "code",
   "execution_count": 1,
   "metadata": {},
   "outputs": [
    {
     "name": "stdout",
     "output_type": "stream",
     "text": [
      "720720\n",
      "1441440\n",
      "2162160\n",
      "2882880\n",
      "3603600\n",
      "4324320\n",
      "5045040\n",
      "5765760\n",
      "6486480\n",
      "7207200\n",
      "7927920\n",
      "8648640\n",
      "9369360\n"
     ]
    }
   ],
   "source": [
    "for i in range(2520,10000000):\n",
    "    flag= False\n",
    "    for j in range(1,21):\n",
    "        if i%j==0:  flag= True;\n",
    "        else:       flag= False;\n",
    "        if flag==False:   break;\n",
    "        \n",
    "    if flag==True:\n",
    "        print(i)\n",
    "           "
   ]
  },
  {
   "cell_type": "code",
   "execution_count": 39,
   "metadata": {},
   "outputs": [
    {
     "name": "stdout",
     "output_type": "stream",
     "text": [
      "1 2 4 16\n",
      "2 3 2 144\n",
      "3 5 1 720\n",
      "4 7 1 5040\n",
      "5 11 1 55440\n",
      "6 13 1 720720\n",
      "7 17 1 12252240\n",
      "8 19 1 232792560\n",
      "232792560\n"
     ]
    }
   ],
   "source": [
    "import math\n",
    "import numpy\n",
    "\n",
    "k= 20\n",
    "N= 1\n",
    "i= 1\n",
    "check= True\n",
    "limit= math.sqrt(k)\n",
    "\n",
    "# 1~20까지의 배열을 생성한다.\n",
    "a = numpy.arange(1,22,1)\n",
    "\n",
    "p = [1,2, 3, 5, 7, 11, 13, 17, 19, 23]\n",
    "\n",
    "while p[i] <=k:\n",
    "    a[i]= 1\n",
    "    if check==True:\n",
    "        if p[i] <= limit:\n",
    "            a[i]= math.floor(math.log(k)/math.log(p[i]))\n",
    "        else:\n",
    "            check= False\n",
    "    N= N* (p[i] ** a[i])\n",
    "    print(i, p[i], a[i], N )\n",
    "    i= i+1\n",
    "\n",
    "print(N)"
   ]
  }
 ],
 "metadata": {
  "kernelspec": {
   "display_name": "Python 3.10.5 64-bit (windows store)",
   "language": "python",
   "name": "python3"
  },
  "language_info": {
   "codemirror_mode": {
    "name": "ipython",
    "version": 3
   },
   "file_extension": ".py",
   "mimetype": "text/x-python",
   "name": "python",
   "nbconvert_exporter": "python",
   "pygments_lexer": "ipython3",
   "version": "3.10.5"
  },
  "orig_nbformat": 4,
  "vscode": {
   "interpreter": {
    "hash": "6be026cc2f54c9bec22506d53e3e394c3402c3c44c1202f9383de7e3faf9cb28"
   }
  }
 },
 "nbformat": 4,
 "nbformat_minor": 2
}
