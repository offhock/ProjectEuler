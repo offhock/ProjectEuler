{
 "cells": [
  {
   "cell_type": "markdown",
   "metadata": {},
   "source": [
    "# Largest palindrome product\n",
    "> Problem 4\n",
    "\n",
    "A palindromic number reads the same both ways. The largest palindrome made from the product of two 2-digit numbers is 9009 = 91 × 99.\n",
    "\n",
    "Find the largest palindrome made from the product of two 3-digit numbers.\n",
    "\n",
    "번역:  \n",
    "회문 번호는 양방향으로 동일하게 읽습니다. 두 자리 숫자의 곱으로 만든 가장 큰 회문은 9009 = 91 × 99입니다.   \n",
    "두 개의 3자리 숫자의 곱으로 만든 가장 큰 회문을 찾으십시오."
   ]
  },
  {
   "cell_type": "markdown",
   "metadata": {},
   "source": [
    "> Answer:  906609\n",
    "\n",
    "Completed on Sun, 24 Jul 2022, 08:47"
   ]
  },
  {
   "cell_type": "markdown",
   "metadata": {},
   "source": [
    "> 접근 방법\n",
    "\n",
    "1. 999x999의 값은 998001 값을 가지며, 이 값에서 1씩 감소 시키며 앞뒤 순서가 동일한 숫자를 찾는다.\n",
    "2. 2중 for문으로 사용하고, 999부터 1씩 감소하는 숫자중 가장 큰수를 찾는다."
   ]
  },
  {
   "cell_type": "code",
   "execution_count": 34,
   "metadata": {},
   "outputs": [
    {
     "name": "stdout",
     "output_type": "stream",
     "text": [
      "99980001\n",
      "998001\n",
      "9801\n",
      "81\n"
     ]
    }
   ],
   "source": [
    "print (9999*9999)\n",
    "print (999*999)\n",
    "print (99*99)\n",
    "print (9*9)"
   ]
  },
  {
   "cell_type": "code",
   "execution_count": 41,
   "metadata": {},
   "outputs": [
    {
     "name": "stdout",
     "output_type": "stream",
     "text": [
      "9 0 6 6 0 9 993 913\n",
      "8 8 6 6 8 8 968 916\n",
      "8 8 8 8 8 8 962 924\n",
      "8 6 1 1 6 8 932 924\n",
      "8 8 8 8 8 8 924 962\n",
      "8 8 6 6 8 8 916 968\n",
      "8 2 4 4 2 8 914 902\n",
      "9 0 6 6 0 9 913 993\n",
      "8 1 9 9 1 8 909 902\n",
      "8 2 4 4 2 8 902 914\n"
     ]
    }
   ],
   "source": [
    "from matplotlib.pyplot import text\n",
    "\n",
    "\n",
    "for i in range(999,900,-1):\n",
    "    for j in range(999,900,-1):\n",
    "        n=i*j\n",
    "        str_n = str(n)        \n",
    "        if (str_n[0]==str_n[5]) and (str_n[1]==str_n[4]) and (str_n[2]==str_n[3]):                        \n",
    "            print(str_n[0],str_n[1],str_n[2],str_n[3],str_n[4],str_n[5], i,j)\n",
    "            break"
   ]
  },
  {
   "cell_type": "code",
   "execution_count": 1,
   "metadata": {},
   "outputs": [
    {
     "name": "stdout",
     "output_type": "stream",
     "text": [
      "10299 3\n",
      "1029 39\n",
      "102 399\n",
      "10 3992\n",
      "1 39920\n",
      "0 399201\n"
     ]
    },
    {
     "data": {
      "text/plain": [
       "399201"
      ]
     },
     "execution_count": 1,
     "metadata": {},
     "output_type": "execute_result"
    }
   ],
   "source": [
    "def aa(n):\n",
    "    r=0\n",
    "    while n>0:\n",
    "        r= r*10 + n%10\n",
    "        n = int(n / 10)\n",
    "        print (n,r)\n",
    "    return r\n",
    "\n",
    "\n",
    "a=aa(102993)\n",
    "a"
   ]
  }
 ],
 "metadata": {
  "kernelspec": {
   "display_name": "Python 3.10.5 64-bit (windows store)",
   "language": "python",
   "name": "python3"
  },
  "language_info": {
   "codemirror_mode": {
    "name": "ipython",
    "version": 3
   },
   "file_extension": ".py",
   "mimetype": "text/x-python",
   "name": "python",
   "nbconvert_exporter": "python",
   "pygments_lexer": "ipython3",
   "version": "3.10.5"
  },
  "orig_nbformat": 4,
  "vscode": {
   "interpreter": {
    "hash": "6be026cc2f54c9bec22506d53e3e394c3402c3c44c1202f9383de7e3faf9cb28"
   }
  }
 },
 "nbformat": 4,
 "nbformat_minor": 2
}
