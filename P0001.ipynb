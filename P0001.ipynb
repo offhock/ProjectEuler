{
 "cells": [
  {
   "cell_type": "markdown",
   "metadata": {},
   "source": [
    "# Multiples of 3 or 5\n",
    "> Problem 1\n",
    "\n",
    "If we list all the natural numbers below 10 that are multiples of 3 or 5, we get 3, 5, 6 and 9. The sum of these multiples is 23.\n",
    "\n",
    "Find the sum of all the multiples of 3 or 5 below 1000."
   ]
  },
  {
   "cell_type": "markdown",
   "metadata": {},
   "source": [
    ">Answer:  233168\n",
    "\n",
    "Completed on Mon, 16 May 2022, 16:07"
   ]
  },
  {
   "cell_type": "code",
   "execution_count": 1,
   "metadata": {},
   "outputs": [
    {
     "name": "stdout",
     "output_type": "stream",
     "text": [
      "3\n",
      "5\n",
      "6\n",
      "9\n",
      "10\n",
      "12\n",
      "15\n",
      "18\n",
      "20\n",
      "21\n",
      "24\n",
      "25\n",
      "27\n",
      "30\n",
      "33\n",
      "35\n",
      "36\n",
      "39\n",
      "40\n",
      "42\n",
      "45\n",
      "48\n",
      "50\n",
      "51\n",
      "54\n",
      "55\n",
      "57\n",
      "60\n",
      "63\n",
      "65\n",
      "66\n",
      "69\n",
      "70\n",
      "72\n",
      "75\n",
      "78\n",
      "80\n",
      "81\n",
      "84\n",
      "85\n",
      "87\n",
      "90\n",
      "93\n",
      "95\n",
      "96\n",
      "99\n",
      "sum: %d 2318\n",
      "count: %d 46\n",
      "100 2318.0\n"
     ]
    }
   ],
   "source": [
    "sum=0\n",
    "count=0\n",
    "n=100\n",
    "for i  in range(1,n):\n",
    "\tif (i % 3)==0 or (i% 5)==0:\n",
    "\t\tcount=count+1\n",
    "\t\tsum=sum+i\n",
    "\t\tprint (i)\n",
    "\t\n",
    "print(\"sum: %d\",sum)\n",
    "print(\"count: %d\", count)\n",
    "\n",
    "# method 2: mathmatical\n",
    "# sum of  nth number\n",
    "def subsum(n,m):\n",
    "\tcnt=(int)((n-1)/m)\n",
    "\tsum=m*(cnt*(cnt+1))/2\n",
    "\treturn sum\n",
    "\t\n",
    "print (n, subsum(n,3)+subsum(n,5)-subsum(n,15))\n"
   ]
  }
 ],
 "metadata": {
  "kernelspec": {
   "display_name": "Python 3.10.5 64-bit (windows store)",
   "language": "python",
   "name": "python3"
  },
  "language_info": {
   "codemirror_mode": {
    "name": "ipython",
    "version": 3
   },
   "file_extension": ".py",
   "mimetype": "text/x-python",
   "name": "python",
   "nbconvert_exporter": "python",
   "pygments_lexer": "ipython3",
   "version": "3.10.5"
  },
  "orig_nbformat": 4,
  "vscode": {
   "interpreter": {
    "hash": "6be026cc2f54c9bec22506d53e3e394c3402c3c44c1202f9383de7e3faf9cb28"
   }
  }
 },
 "nbformat": 4,
 "nbformat_minor": 2
}
