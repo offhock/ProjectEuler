{
 "cells": [
  {
   "cell_type": "markdown",
   "metadata": {},
   "source": [
    "# Special Pythagorean triplet\n",
    "> Problem 9\n",
    "\n",
    "A Pythagorean triplet is a set of three natural numbers, a < b < c, for which,\n",
    "$$ a^2 + b^2 = c^2$$\n",
    "For example, $3^2 + 4^2 = 9 + 16 = 25 = 5^2$.\n",
    "\n",
    "There exists exactly one Pythagorean triplet for which $a + b + c = 1000$.\n",
    "Find the product abc."
   ]
  },
  {
   "cell_type": "markdown",
   "metadata": {},
   "source": [
    "$a^2+b^2=c^2$  \n",
    "$a+b+c=1000$  \n",
    "Find $abc$\n",
    "\n",
    "> solve\n",
    "\n",
    "$a^2+b^2=c^2$  \n",
    "\n",
    "양변에 2ab를 더한다.\n",
    "\n",
    "$a^2+b^2+2ab=c^2+2ab$  \n",
    "\n",
    "$ (a+b)^2=c^2+2ab$  \n",
    "\n",
    "$(a+b+c)^2=a^2+b^2+c^2+2ab+2bc+2ca$\n",
    "\n",
    "$ a^2+2ab+b^2+c^2+2bc+2ca = (a+b)^2 + c (2a + 2b +c)$ \n",
    "\n",
    "$ 2c^2 + 2ab+ 2bc +2ca = $ \n",
    "\n"
   ]
  },
  {
   "cell_type": "markdown",
   "metadata": {},
   "source": [
    "Solve)  \n",
    "\n",
    "$a^2 + b^2 - c^2 = 0$  \n",
    "\n",
    "$a + b + c = 1000 $    --> $c = 1000 - a- b $\n",
    "\n",
    "$a^2 + b^2 - (1000 - a- b)^2 = 0$  \n",
    "\n",
    "$a^2 + b^2 - (a^2 + 2ab - 2000a + b^2 - 2000b + 1000000) =0 $\n",
    "\n",
    "$a^2 + b^2 -  a^2 - 2ab + 2000a - b^2 + 2000b - 1000000 =0 $\n",
    "\n",
    "$   - 2ab + 2000a  + 2000b - 1000000 =0 $\n",
    "\n",
    "$   1000a  + 1000b = ab + 500000  $\n",
    "\n",
    "$   a  + b = {{ab}\\over{1000}} + 500  $\n",
    "\n",
    "$   a  + b +c = {{ab}\\over{1000}} + 500 +c = 1000 $\n",
    "\n",
    "$    2000 (a+ b)  =  2ab + 1000000 $\n",
    "\n",
    "$    1000 (a+ b)  =  ab + 500000 $\n",
    "\n",
    "$    1000 *1000 (a+ b)(a+ b)  =  (ab + 500000)(ab + 500000) $\n",
    "\n",
    "$    1000000 (a^2 + 2ab+  b^2) = a^2b^2 +1000000ab +500000^2) $\n",
    "\n",
    "$    1000000 (c^2+ 2ab) = a^2b^2 +1000000ab +500000^2) $\n",
    "\n",
    "\n",
    "$ (a + b + c)^2= 1000^2 = (a + b + c)(a + b + c) = a^2 + ab +ac + ab + b^2 +bc + ac +bc + c^2 = a^2+b^2+c^2+2ab+2bc+2ca $ \n"
   ]
  },
  {
   "cell_type": "code",
   "execution_count": 33,
   "metadata": {},
   "outputs": [
    {
     "name": "stdout",
     "output_type": "stream",
     "text": [
      "200 375 425 40000 140625 180625 1000 31875000.0\n"
     ]
    }
   ],
   "source": [
    "import math\n",
    "sum=1000\n",
    "for a in range(3,int(sum/3)):\n",
    "    for b in range(a+1,int((sum-a)/2)):\n",
    "        c= math.sqrt(a**2+b**2)\n",
    "        if c.is_integer() and a+b+c==sum:\n",
    "            print (a,b, int(c), int(a**2),int(b**2), int(c**2), int(a+b+c), a*b*c)\n",
    "            break\n",
    "            \n",
    "  "
   ]
  }
 ],
 "metadata": {
  "kernelspec": {
   "display_name": "Python 3.10.5 64-bit",
   "language": "python",
   "name": "python3"
  },
  "language_info": {
   "codemirror_mode": {
    "name": "ipython",
    "version": 3
   },
   "file_extension": ".py",
   "mimetype": "text/x-python",
   "name": "python",
   "nbconvert_exporter": "python",
   "pygments_lexer": "ipython3",
   "version": "3.10.5"
  },
  "orig_nbformat": 4,
  "vscode": {
   "interpreter": {
    "hash": "b6213e0af081d56db034f795ff49d96980936e2ae540dda57fc6c3cbea6a5fc9"
   }
  }
 },
 "nbformat": 4,
 "nbformat_minor": 2
}
