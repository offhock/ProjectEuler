{
 "cells": [
  {
   "cell_type": "markdown",
   "metadata": {},
   "source": [
    "# Maximum path sum I\n",
    " \n",
    "> Problem 18\n",
    "\n",
    "\n",
    "By starting at the top of the triangle below and moving to adjacent numbers on the row below, the maximum total from top to bottom is 23.\n",
    "```\n",
    "3\n",
    "7 4\n",
    "2 4 6\n",
    "8 5 9 3\n",
    "```\n",
    "That is, 3 + 7 + 4 + 9 = 23.\n",
    "\n",
    "Find the maximum total from top to bottom of the triangle below:\n",
    "```\n",
    "75\n",
    "95 64\n",
    "17 47 82\n",
    "18 35 87 10\n",
    "20 04 82 47 65\n",
    "19 01 23 75 03 34\n",
    "88 02 77 73 07 63 67\n",
    "99 65 04 28 06 16 70 92\n",
    "41 41 26 56 83 40 80 70 33\n",
    "41 48 72 33 47 32 37 16 94 29\n",
    "53 71 44 65 25 43 91 52 97 51 14\n",
    "70 11 33 28 77 73 17 78 39 68 17 57\n",
    "91 71 52 38 17 14 91 43 58 50 27 29 48\n",
    "63 66 04 68 89 53 67 30 73 16 69 87 40 31\n",
    "04 62 98 27 23 09 70 98 73 93 38 53 60 04 23\n",
    "```\n",
    "> NOTE: As there are only 16384 routes, it is possible to solve this problem by trying every route. However, Problem 67, is the same challenge with a triangle containing one-hundred rows; it cannot be solved by brute force, and requires a clever method! ;o)\n",
    "\n",
    ">Answer:  1074  \n",
    ">Completed on Wed, 10 Aug 2022, 15:58"
   ]
  },
  {
   "cell_type": "code",
   "execution_count": 57,
   "metadata": {},
   "outputs": [
    {
     "name": "stdout",
     "output_type": "stream",
     "text": [
      "75  \n",
      "95 64  \n",
      "17 47 82  \n",
      "18 35 87 10  \n",
      "20 4 82 47 65  \n",
      "19 1 23 75 3 34  \n",
      "88 2 77 73 7 63 67  \n",
      "99 65 4 28 6 16 70 92  \n",
      "41 41 26 56 83 40 80 70 33  \n",
      "41 48 72 33 47 32 37 16 94 29  \n",
      "53 71 44 65 25 43 91 52 97 51 14  \n",
      "70 11 33 28 77 73 17 78 39 68 17 57  \n",
      "91 71 52 38 17 14 91 43 58 50 27 29 48  \n",
      "63 66 4 68 89 53 67 30 73 16 69 87 40 31  \n",
      "4 62 98 27 23 9 70 98 73 93 38 53 60 4 23  \n",
      " \n",
      "125 164 102 95 112 123 165 128 166 109 122 147 100 54  \n",
      "255 235 154 150 140 179 256 209 224 172 174 176 148  \n",
      "325 246 187 178 256 329 273 302 263 242 193 233  \n",
      "378 317 231 321 354 372 393 354 360 293 247  \n",
      "419 365 393 387 419 425 430 376 454 322  \n",
      "460 434 419 475 508 470 510 524 487  \n",
      "559 499 479 536 514 526 594 616  \n",
      "647 501 613 609 533 657 683  \n",
      "666 614 636 684 660 717  \n",
      "686 640 766 731 782  \n",
      "704 801 853 792  \n",
      "818 900 935  \n",
      "995 999  \n",
      "1074  \n"
     ]
    }
   ],
   "source": [
    "f= open('P0018.txt','r')\n",
    "basedata = f.read()\n",
    "f.close()\n",
    "\n",
    "data=basedata.split('\\n')\n",
    "for k in range(len(data)):\n",
    "    data[k] = data[k].split(' ')\n",
    "\n",
    "for k in range(0, len(data)):              # 1차원 리스트 개수 만큼 반복\n",
    "    for j in range(0, len(data[k])):            # 2차원 리스트의 개수 만큼 반복\n",
    "        data[k][j] = int(data[k][j])      # 2차원 리스트내 문자를 숫자로 변환하고 합산\n",
    "        print(data[k][j], end=' ') \n",
    "    print(\" \")\n",
    "\n",
    "print(\" \")\n",
    "\n",
    "cal = data\n",
    "\n",
    "for k in range(len(cal)-2,-1,-1):              # 1차원 리스트 개수 만큼 반복\n",
    "    for j in range(0, len(cal[k])):            # 2차원 리스트의 개수 만큼 반복   \n",
    "        cal[k][j] = cal[k][j] + max(cal[k+1][j],cal[k+1][j+1])\n",
    "        print(cal[k][j], end=' ')   \n",
    "    print(\" \")\n"
   ]
  }
 ],
 "metadata": {
  "kernelspec": {
   "display_name": "Python 3.10.5 64-bit (windows store)",
   "language": "python",
   "name": "python3"
  },
  "language_info": {
   "codemirror_mode": {
    "name": "ipython",
    "version": 3
   },
   "file_extension": ".py",
   "mimetype": "text/x-python",
   "name": "python",
   "nbconvert_exporter": "python",
   "pygments_lexer": "ipython3",
   "version": "3.10.5"
  },
  "orig_nbformat": 4,
  "vscode": {
   "interpreter": {
    "hash": "6be026cc2f54c9bec22506d53e3e394c3402c3c44c1202f9383de7e3faf9cb28"
   }
  }
 },
 "nbformat": 4,
 "nbformat_minor": 2
}
